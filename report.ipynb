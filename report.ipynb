{
 "cells": [
  {
   "cell_type": "code",
   "execution_count": 1,
   "metadata": {},
   "outputs": [],
   "source": [
    "from actions import ActionsWorkflow, ActionsJobs, ActionsArtifacts\n",
    "import LogExtractor as extractor\n",
    "\n",
    "from reportlab.lib.pagesizes import A4\n",
    "from reportlab.lib import colors\n",
    "from reportlab.lib.styles import getSampleStyleSheet, ParagraphStyle\n",
    "from reportlab.platypus import SimpleDocTemplate, Paragraph, Table, TableStyle, Spacer, ListFlowable, ListItem, Spacer, Image\n",
    "from datetime import datetime\n",
    "\n",
    "import pandas as pd\n",
    "import numpy as np\n",
    "import matplotlib.pyplot as plt\n",
    "import plotly.express as px\n",
    "import tempfile\n",
    "import os\n",
    "import kaleido\n"
   ]
  },
  {
   "cell_type": "markdown",
   "metadata": {},
   "source": [
    "## Retrieving test data and processing "
   ]
  },
  {
   "cell_type": "code",
   "execution_count": 2,
   "metadata": {},
   "outputs": [],
   "source": [
    "repo_path = 'MagaluCloud/s3-specs'\n",
    "query_size = 10\n"
   ]
  },
  {
   "cell_type": "code",
   "execution_count": 3,
   "metadata": {},
   "outputs": [
    {
     "name": "stdout",
     "output_type": "stream",
     "text": [
      "DataFrame successfully saved to ./bin/actionsWorflow.parquet\n"
     ]
    }
   ],
   "source": [
    "\n",
    "workflow = ActionsWorkflow(repository=repo_path, query_size=query_size)\n",
    "jobs = ActionsJobs(repo_path, workflow)\n",
    "\n",
    "all_workflows_jobs = pd.DataFrame()\n",
    "\n",
    "for id in workflow.df['databaseId']:\n",
    "    tmp = jobs.get_jobs(id)\n",
    "    all_workflows_jobs = pd.concat([all_workflows_jobs, tmp])"
   ]
  },
  {
   "cell_type": "code",
   "execution_count": 4,
   "metadata": {},
   "outputs": [],
   "source": [
    "artifacts = ActionsArtifacts(repository=repo_path)\n",
    "all_tests_df = pd.DataFrame()\n",
    "all_times_df = pd.DataFrame()\n",
    "all_failures_df = pd.DataFrame()\n",
    "\n",
    "for path in artifacts.paths:\n",
    "    artifact = extractor.PytestArtifactLogExtractor(path)\n",
    "    pytest_tests_status\t, pytest_run_times, pytest_failures_errors = artifact.log_to_df()\n",
    "    all_tests_df = pd.concat([all_tests_df, pytest_tests_status])\n",
    "    all_times_df = pd.concat([all_times_df, pytest_run_times])\n",
    "    all_failures_df = pd.concat([all_failures_df, pytest_failures_errors])"
   ]
  },
  {
   "cell_type": "code",
   "execution_count": 5,
   "metadata": {},
   "outputs": [
    {
     "data": {
      "text/plain": [
       "status  category                arguments                                                                                                     databaseId \n",
       "FAILED  versioning_cli_test.py  mgc object-storage buckets delete {bucket_name} --no-confirm --recursive --raw-the bucket may not be empty]   13269149128    1\n",
       "                                mgc object-storage objects delete {bucket_name}/{object_key} --no-confirm-]                                   13269149128    1\n",
       "PASSED  acl_test.py             authenticated-read]                                                                                           0              4\n",
       "                                private]                                                                                                      0              4\n",
       "                                public-read-write]                                                                                            0              4\n",
       "                                                                                                                                                            ..\n",
       "        versioning_cli_test.py  mgc object-storage objects delete {bucket_name}/{object_key} --no-confirm-]                                   13269265723    1\n",
       "                                rclone delete {profile_name}:{bucket_name}/{object_key}-]                                                     13269149128    1\n",
       "                                                                                                                                              13269265723    1\n",
       "                                rclone rmdir {profile_name}:{bucket_name}-BucketNotEmpty]                                                     13269149128    1\n",
       "                                                                                                                                              13269265723    1\n",
       "Name: count, Length: 273, dtype: int64"
      ]
     },
     "execution_count": 5,
     "metadata": {},
     "output_type": "execute_result"
    }
   ],
   "source": [
    "all_tests_df.groupby('status').value_counts()"
   ]
  },
  {
   "cell_type": "code",
   "execution_count": 6,
   "metadata": {},
   "outputs": [
    {
     "data": {
      "text/html": [
       "<div>\n",
       "<style scoped>\n",
       "    .dataframe tbody tr th:only-of-type {\n",
       "        vertical-align: middle;\n",
       "    }\n",
       "\n",
       "    .dataframe tbody tr th {\n",
       "        vertical-align: top;\n",
       "    }\n",
       "\n",
       "    .dataframe thead th {\n",
       "        text-align: right;\n",
       "    }\n",
       "</style>\n",
       "<table border=\"1\" class=\"dataframe\">\n",
       "  <thead>\n",
       "    <tr style=\"text-align: right;\">\n",
       "      <th></th>\n",
       "      <th>status</th>\n",
       "      <th>category</th>\n",
       "      <th>arguments</th>\n",
       "      <th>databaseId</th>\n",
       "    </tr>\n",
       "    <tr>\n",
       "      <th>pytest_tests_status</th>\n",
       "      <th></th>\n",
       "      <th></th>\n",
       "      <th></th>\n",
       "      <th></th>\n",
       "    </tr>\n",
       "  </thead>\n",
       "  <tbody>\n",
       "    <tr>\n",
       "      <th>test_boto_upload_object_with_cold_storage_class</th>\n",
       "      <td>PASSED</td>\n",
       "      <td>cold_storage_test.py</td>\n",
       "      <td>None</td>\n",
       "      <td>0</td>\n",
       "    </tr>\n",
       "    <tr>\n",
       "      <th>test_boto_object_with_custom_metadata_acls_and_storage_class</th>\n",
       "      <td>PASSED</td>\n",
       "      <td>cold_storage_test.py</td>\n",
       "      <td>None</td>\n",
       "      <td>0</td>\n",
       "    </tr>\n",
       "    <tr>\n",
       "      <th>test_boto_list_objects_with_cold_storage_class</th>\n",
       "      <td>PASSED</td>\n",
       "      <td>cold_storage_test.py</td>\n",
       "      <td>None</td>\n",
       "      <td>0</td>\n",
       "    </tr>\n",
       "    <tr>\n",
       "      <th>test_boto_change_object_class_to_cold_storage</th>\n",
       "      <td>PASSED</td>\n",
       "      <td>cold_storage_test.py</td>\n",
       "      <td>None</td>\n",
       "      <td>0</td>\n",
       "    </tr>\n",
       "    <tr>\n",
       "      <th>test_boto_multipart_upload_with_cold_storage_class</th>\n",
       "      <td>PASSED</td>\n",
       "      <td>cold_storage_test.py</td>\n",
       "      <td>None</td>\n",
       "      <td>0</td>\n",
       "    </tr>\n",
       "    <tr>\n",
       "      <th>...</th>\n",
       "      <td>...</td>\n",
       "      <td>...</td>\n",
       "      <td>...</td>\n",
       "      <td>...</td>\n",
       "    </tr>\n",
       "    <tr>\n",
       "      <th>test_delete_bucket_with_objects_with_versions</th>\n",
       "      <td>PASSED</td>\n",
       "      <td>versioning_cli_test.py</td>\n",
       "      <td>mgc object-storage buckets delete {bucket_name...</td>\n",
       "      <td>13269265723</td>\n",
       "    </tr>\n",
       "    <tr>\n",
       "      <th>test_delete_bucket_with_objects_with_versions</th>\n",
       "      <td>PASSED</td>\n",
       "      <td>versioning_cli_test.py</td>\n",
       "      <td>rclone rmdir {profile_name}:{bucket_name}-Buck...</td>\n",
       "      <td>13269265723</td>\n",
       "    </tr>\n",
       "    <tr>\n",
       "      <th>test_delete_bucket_with_objects_with_versions</th>\n",
       "      <td>PASSED</td>\n",
       "      <td>versioning_cli_test.py</td>\n",
       "      <td>aws --profile {profile_name} s3 rb s3://{bucke...</td>\n",
       "      <td>13269265723</td>\n",
       "    </tr>\n",
       "    <tr>\n",
       "      <th>test_delete_object_with_versions</th>\n",
       "      <td>PASSED</td>\n",
       "      <td>versioning_test.py</td>\n",
       "      <td>None</td>\n",
       "      <td>13269265723</td>\n",
       "    </tr>\n",
       "    <tr>\n",
       "      <th>test_delete_bucket_with_objects_with_versions</th>\n",
       "      <td>PASSED</td>\n",
       "      <td>versioning_test.py</td>\n",
       "      <td>None</td>\n",
       "      <td>13269265723</td>\n",
       "    </tr>\n",
       "  </tbody>\n",
       "</table>\n",
       "<p>432 rows × 4 columns</p>\n",
       "</div>"
      ],
      "text/plain": [
       "                                                    status  \\\n",
       "pytest_tests_status                                          \n",
       "test_boto_upload_object_with_cold_storage_class     PASSED   \n",
       "test_boto_object_with_custom_metadata_acls_and_...  PASSED   \n",
       "test_boto_list_objects_with_cold_storage_class      PASSED   \n",
       "test_boto_change_object_class_to_cold_storage       PASSED   \n",
       "test_boto_multipart_upload_with_cold_storage_class  PASSED   \n",
       "...                                                    ...   \n",
       "test_delete_bucket_with_objects_with_versions       PASSED   \n",
       "test_delete_bucket_with_objects_with_versions       PASSED   \n",
       "test_delete_bucket_with_objects_with_versions       PASSED   \n",
       "test_delete_object_with_versions                    PASSED   \n",
       "test_delete_bucket_with_objects_with_versions       PASSED   \n",
       "\n",
       "                                                                  category  \\\n",
       "pytest_tests_status                                                          \n",
       "test_boto_upload_object_with_cold_storage_class       cold_storage_test.py   \n",
       "test_boto_object_with_custom_metadata_acls_and_...    cold_storage_test.py   \n",
       "test_boto_list_objects_with_cold_storage_class        cold_storage_test.py   \n",
       "test_boto_change_object_class_to_cold_storage         cold_storage_test.py   \n",
       "test_boto_multipart_upload_with_cold_storage_class    cold_storage_test.py   \n",
       "...                                                                    ...   \n",
       "test_delete_bucket_with_objects_with_versions       versioning_cli_test.py   \n",
       "test_delete_bucket_with_objects_with_versions       versioning_cli_test.py   \n",
       "test_delete_bucket_with_objects_with_versions       versioning_cli_test.py   \n",
       "test_delete_object_with_versions                        versioning_test.py   \n",
       "test_delete_bucket_with_objects_with_versions           versioning_test.py   \n",
       "\n",
       "                                                                                            arguments  \\\n",
       "pytest_tests_status                                                                                     \n",
       "test_boto_upload_object_with_cold_storage_class                                                  None   \n",
       "test_boto_object_with_custom_metadata_acls_and_...                                               None   \n",
       "test_boto_list_objects_with_cold_storage_class                                                   None   \n",
       "test_boto_change_object_class_to_cold_storage                                                    None   \n",
       "test_boto_multipart_upload_with_cold_storage_class                                               None   \n",
       "...                                                                                               ...   \n",
       "test_delete_bucket_with_objects_with_versions       mgc object-storage buckets delete {bucket_name...   \n",
       "test_delete_bucket_with_objects_with_versions       rclone rmdir {profile_name}:{bucket_name}-Buck...   \n",
       "test_delete_bucket_with_objects_with_versions       aws --profile {profile_name} s3 rb s3://{bucke...   \n",
       "test_delete_object_with_versions                                                                 None   \n",
       "test_delete_bucket_with_objects_with_versions                                                    None   \n",
       "\n",
       "                                                     databaseId  \n",
       "pytest_tests_status                                              \n",
       "test_boto_upload_object_with_cold_storage_class               0  \n",
       "test_boto_object_with_custom_metadata_acls_and_...            0  \n",
       "test_boto_list_objects_with_cold_storage_class                0  \n",
       "test_boto_change_object_class_to_cold_storage                 0  \n",
       "test_boto_multipart_upload_with_cold_storage_class            0  \n",
       "...                                                         ...  \n",
       "test_delete_bucket_with_objects_with_versions       13269265723  \n",
       "test_delete_bucket_with_objects_with_versions       13269265723  \n",
       "test_delete_bucket_with_objects_with_versions       13269265723  \n",
       "test_delete_object_with_versions                    13269265723  \n",
       "test_delete_bucket_with_objects_with_versions       13269265723  \n",
       "\n",
       "[432 rows x 4 columns]"
      ]
     },
     "metadata": {},
     "output_type": "display_data"
    },
    {
     "data": {
      "text/html": [
       "<div>\n",
       "<style scoped>\n",
       "    .dataframe tbody tr th:only-of-type {\n",
       "        vertical-align: middle;\n",
       "    }\n",
       "\n",
       "    .dataframe tbody tr th {\n",
       "        vertical-align: top;\n",
       "    }\n",
       "\n",
       "    .dataframe thead th {\n",
       "        text-align: right;\n",
       "    }\n",
       "</style>\n",
       "<table border=\"1\" class=\"dataframe\">\n",
       "  <thead>\n",
       "    <tr style=\"text-align: right;\">\n",
       "      <th></th>\n",
       "      <th>total</th>\n",
       "      <th>num</th>\n",
       "      <th>avg</th>\n",
       "      <th>min</th>\n",
       "      <th>durationType</th>\n",
       "      <th>databaseId</th>\n",
       "    </tr>\n",
       "    <tr>\n",
       "      <th>pytest_run_times</th>\n",
       "      <th></th>\n",
       "      <th></th>\n",
       "      <th></th>\n",
       "      <th></th>\n",
       "      <th></th>\n",
       "      <th></th>\n",
       "    </tr>\n",
       "  </thead>\n",
       "  <tbody>\n",
       "    <tr>\n",
       "      <th>test_boto_multipart_upload_with_cold_storage_class</th>\n",
       "      <td>2.507</td>\n",
       "      <td>1</td>\n",
       "      <td>2.507</td>\n",
       "      <td>2.507</td>\n",
       "      <td>teardown duration</td>\n",
       "      <td>0</td>\n",
       "    </tr>\n",
       "    <tr>\n",
       "      <th>test_boto_object_with_custom_metadata_acls_and_storage_class</th>\n",
       "      <td>2.202</td>\n",
       "      <td>1</td>\n",
       "      <td>2.202</td>\n",
       "      <td>2.202</td>\n",
       "      <td>teardown duration</td>\n",
       "      <td>0</td>\n",
       "    </tr>\n",
       "    <tr>\n",
       "      <th>test_boto_upload_object_with_cold_storage_class</th>\n",
       "      <td>2.143</td>\n",
       "      <td>1</td>\n",
       "      <td>2.143</td>\n",
       "      <td>2.143</td>\n",
       "      <td>teardown duration</td>\n",
       "      <td>0</td>\n",
       "    </tr>\n",
       "    <tr>\n",
       "      <th>test_boto_change_object_class_to_cold_storage</th>\n",
       "      <td>1.331</td>\n",
       "      <td>1</td>\n",
       "      <td>1.331</td>\n",
       "      <td>1.331</td>\n",
       "      <td>teardown duration</td>\n",
       "      <td>0</td>\n",
       "    </tr>\n",
       "    <tr>\n",
       "      <th>test_boto_list_objects_with_cold_storage_class</th>\n",
       "      <td>1.121</td>\n",
       "      <td>1</td>\n",
       "      <td>1.121</td>\n",
       "      <td>1.121</td>\n",
       "      <td>teardown duration</td>\n",
       "      <td>0</td>\n",
       "    </tr>\n",
       "    <tr>\n",
       "      <th>...</th>\n",
       "      <td>...</td>\n",
       "      <td>...</td>\n",
       "      <td>...</td>\n",
       "      <td>...</td>\n",
       "      <td>...</td>\n",
       "      <td>...</td>\n",
       "    </tr>\n",
       "    <tr>\n",
       "      <th>test_delete_bucket_with_objects_with_versions</th>\n",
       "      <td>5.903</td>\n",
       "      <td>4</td>\n",
       "      <td>1.705</td>\n",
       "      <td>0.618</td>\n",
       "      <td>call duration</td>\n",
       "      <td>13269265723</td>\n",
       "    </tr>\n",
       "    <tr>\n",
       "      <th>versioned_bucket_with_one_object</th>\n",
       "      <td>46.476</td>\n",
       "      <td>8</td>\n",
       "      <td>5.772</td>\n",
       "      <td>5.330</td>\n",
       "      <td>fixture duration</td>\n",
       "      <td>13269265723</td>\n",
       "    </tr>\n",
       "    <tr>\n",
       "      <th>s3_client</th>\n",
       "      <td>1.409</td>\n",
       "      <td>8</td>\n",
       "      <td>0.074</td>\n",
       "      <td>0.067</td>\n",
       "      <td>fixture duration</td>\n",
       "      <td>13269265723</td>\n",
       "    </tr>\n",
       "    <tr>\n",
       "      <th>active_mgc_workspace</th>\n",
       "      <td>0.165</td>\n",
       "      <td>6</td>\n",
       "      <td>0.008</td>\n",
       "      <td>0.008</td>\n",
       "      <td>fixture duration</td>\n",
       "      <td>13269265723</td>\n",
       "    </tr>\n",
       "    <tr>\n",
       "      <th>test_params</th>\n",
       "      <td>0.011</td>\n",
       "      <td>8</td>\n",
       "      <td>0.001</td>\n",
       "      <td>0.001</td>\n",
       "      <td>fixture duration</td>\n",
       "      <td>13269265723</td>\n",
       "    </tr>\n",
       "  </tbody>\n",
       "</table>\n",
       "<p>905 rows × 6 columns</p>\n",
       "</div>"
      ],
      "text/plain": [
       "                                                     total num    avg    min  \\\n",
       "pytest_run_times                                                               \n",
       "test_boto_multipart_upload_with_cold_storage_class   2.507   1  2.507  2.507   \n",
       "test_boto_object_with_custom_metadata_acls_and_...   2.202   1  2.202  2.202   \n",
       "test_boto_upload_object_with_cold_storage_class      2.143   1  2.143  2.143   \n",
       "test_boto_change_object_class_to_cold_storage        1.331   1  1.331  1.331   \n",
       "test_boto_list_objects_with_cold_storage_class       1.121   1  1.121  1.121   \n",
       "...                                                    ...  ..    ...    ...   \n",
       "test_delete_bucket_with_objects_with_versions        5.903   4  1.705  0.618   \n",
       "versioned_bucket_with_one_object                    46.476   8  5.772  5.330   \n",
       "s3_client                                            1.409   8  0.074  0.067   \n",
       "active_mgc_workspace                                 0.165   6  0.008  0.008   \n",
       "test_params                                          0.011   8  0.001  0.001   \n",
       "\n",
       "                                                           durationType  \\\n",
       "pytest_run_times                                                          \n",
       "test_boto_multipart_upload_with_cold_storage_class   teardown duration    \n",
       "test_boto_object_with_custom_metadata_acls_and_...   teardown duration    \n",
       "test_boto_upload_object_with_cold_storage_class      teardown duration    \n",
       "test_boto_change_object_class_to_cold_storage        teardown duration    \n",
       "test_boto_list_objects_with_cold_storage_class       teardown duration    \n",
       "...                                                                 ...   \n",
       "test_delete_bucket_with_objects_with_versions            call duration    \n",
       "versioned_bucket_with_one_object                      fixture duration    \n",
       "s3_client                                             fixture duration    \n",
       "active_mgc_workspace                                  fixture duration    \n",
       "test_params                                           fixture duration    \n",
       "\n",
       "                                                     databaseId  \n",
       "pytest_run_times                                                 \n",
       "test_boto_multipart_upload_with_cold_storage_class            0  \n",
       "test_boto_object_with_custom_metadata_acls_and_...            0  \n",
       "test_boto_upload_object_with_cold_storage_class               0  \n",
       "test_boto_change_object_class_to_cold_storage                 0  \n",
       "test_boto_list_objects_with_cold_storage_class                0  \n",
       "...                                                         ...  \n",
       "test_delete_bucket_with_objects_with_versions       13269265723  \n",
       "versioned_bucket_with_one_object                    13269265723  \n",
       "s3_client                                           13269265723  \n",
       "active_mgc_workspace                                13269265723  \n",
       "test_params                                         13269265723  \n",
       "\n",
       "[905 rows x 6 columns]"
      ]
     },
     "metadata": {},
     "output_type": "display_data"
    },
    {
     "data": {
      "text/html": [
       "<div>\n",
       "<style scoped>\n",
       "    .dataframe tbody tr th:only-of-type {\n",
       "        vertical-align: middle;\n",
       "    }\n",
       "\n",
       "    .dataframe tbody tr th {\n",
       "        vertical-align: top;\n",
       "    }\n",
       "\n",
       "    .dataframe thead th {\n",
       "        text-align: right;\n",
       "    }\n",
       "</style>\n",
       "<table border=\"1\" class=\"dataframe\">\n",
       "  <thead>\n",
       "    <tr style=\"text-align: right;\">\n",
       "      <th></th>\n",
       "      <th>status</th>\n",
       "      <th>category</th>\n",
       "      <th>error</th>\n",
       "      <th>error_details</th>\n",
       "      <th>databaseId</th>\n",
       "    </tr>\n",
       "    <tr>\n",
       "      <th>pytest_failures_errors</th>\n",
       "      <th></th>\n",
       "      <th></th>\n",
       "      <th></th>\n",
       "      <th></th>\n",
       "      <th></th>\n",
       "    </tr>\n",
       "  </thead>\n",
       "  <tbody>\n",
       "    <tr>\n",
       "      <th>test_delete_object_with_versions</th>\n",
       "      <td>FAILED</td>\n",
       "      <td>versioning_cli_test.py</td>\n",
       "      <td>AssertionError</td>\n",
       "      <td>Command failed with error: Error: (NoSuchBuck...</td>\n",
       "      <td>13269149128</td>\n",
       "    </tr>\n",
       "    <tr>\n",
       "      <th>test_delete_bucket_with_objects_with_versions</th>\n",
       "      <td>FAILED</td>\n",
       "      <td>versioning_cli_test.py</td>\n",
       "      <td>assert</td>\n",
       "      <td>'the bucket may not be empty' in 'WARN\\tgithub...</td>\n",
       "      <td>13269149128</td>\n",
       "    </tr>\n",
       "  </tbody>\n",
       "</table>\n",
       "</div>"
      ],
      "text/plain": [
       "                                               status                category  \\\n",
       "pytest_failures_errors                                                          \n",
       "test_delete_object_with_versions               FAILED  versioning_cli_test.py   \n",
       "test_delete_bucket_with_objects_with_versions  FAILED  versioning_cli_test.py   \n",
       "\n",
       "                                                        error  \\\n",
       "pytest_failures_errors                                          \n",
       "test_delete_object_with_versions               AssertionError   \n",
       "test_delete_bucket_with_objects_with_versions          assert   \n",
       "\n",
       "                                                                                   error_details  \\\n",
       "pytest_failures_errors                                                                             \n",
       "test_delete_object_with_versions                Command failed with error: Error: (NoSuchBuck...   \n",
       "test_delete_bucket_with_objects_with_versions  'the bucket may not be empty' in 'WARN\\tgithub...   \n",
       "\n",
       "                                                databaseId  \n",
       "pytest_failures_errors                                      \n",
       "test_delete_object_with_versions               13269149128  \n",
       "test_delete_bucket_with_objects_with_versions  13269149128  "
      ]
     },
     "metadata": {},
     "output_type": "display_data"
    }
   ],
   "source": [
    "# Trocar databaseId por jobId\n",
    "display(all_tests_df)\n",
    "display(all_times_df[all_times_df['databaseId'].notna()])\n",
    "display(all_failures_df)"
   ]
  },
  {
   "cell_type": "markdown",
   "metadata": {},
   "source": [
    "## Plotter"
   ]
  },
  {
   "cell_type": "code",
   "execution_count": 7,
   "metadata": {},
   "outputs": [
    {
     "data": {
      "text/html": [
       "<div>\n",
       "<style scoped>\n",
       "    .dataframe tbody tr th:only-of-type {\n",
       "        vertical-align: middle;\n",
       "    }\n",
       "\n",
       "    .dataframe tbody tr th {\n",
       "        vertical-align: top;\n",
       "    }\n",
       "\n",
       "    .dataframe thead th {\n",
       "        text-align: right;\n",
       "    }\n",
       "</style>\n",
       "<table border=\"1\" class=\"dataframe\">\n",
       "  <thead>\n",
       "    <tr style=\"text-align: right;\">\n",
       "      <th></th>\n",
       "      <th>category</th>\n",
       "      <th>status</th>\n",
       "    </tr>\n",
       "    <tr>\n",
       "      <th>pytest_tests_status</th>\n",
       "      <th></th>\n",
       "      <th></th>\n",
       "    </tr>\n",
       "  </thead>\n",
       "  <tbody>\n",
       "    <tr>\n",
       "      <th>test_boto_upload_object_with_cold_storage_class</th>\n",
       "      <td>cold_storage_test.py</td>\n",
       "      <td>PASSED</td>\n",
       "    </tr>\n",
       "    <tr>\n",
       "      <th>test_boto_object_with_custom_metadata_acls_and_storage_class</th>\n",
       "      <td>cold_storage_test.py</td>\n",
       "      <td>PASSED</td>\n",
       "    </tr>\n",
       "    <tr>\n",
       "      <th>test_boto_list_objects_with_cold_storage_class</th>\n",
       "      <td>cold_storage_test.py</td>\n",
       "      <td>PASSED</td>\n",
       "    </tr>\n",
       "    <tr>\n",
       "      <th>test_boto_change_object_class_to_cold_storage</th>\n",
       "      <td>cold_storage_test.py</td>\n",
       "      <td>PASSED</td>\n",
       "    </tr>\n",
       "    <tr>\n",
       "      <th>test_boto_multipart_upload_with_cold_storage_class</th>\n",
       "      <td>cold_storage_test.py</td>\n",
       "      <td>PASSED</td>\n",
       "    </tr>\n",
       "    <tr>\n",
       "      <th>...</th>\n",
       "      <td>...</td>\n",
       "      <td>...</td>\n",
       "    </tr>\n",
       "    <tr>\n",
       "      <th>test_delete_bucket_with_objects_with_versions</th>\n",
       "      <td>versioning_cli_test.py</td>\n",
       "      <td>PASSED</td>\n",
       "    </tr>\n",
       "    <tr>\n",
       "      <th>test_delete_bucket_with_objects_with_versions</th>\n",
       "      <td>versioning_cli_test.py</td>\n",
       "      <td>PASSED</td>\n",
       "    </tr>\n",
       "    <tr>\n",
       "      <th>test_delete_bucket_with_objects_with_versions</th>\n",
       "      <td>versioning_cli_test.py</td>\n",
       "      <td>PASSED</td>\n",
       "    </tr>\n",
       "    <tr>\n",
       "      <th>test_delete_object_with_versions</th>\n",
       "      <td>versioning_test.py</td>\n",
       "      <td>PASSED</td>\n",
       "    </tr>\n",
       "    <tr>\n",
       "      <th>test_delete_bucket_with_objects_with_versions</th>\n",
       "      <td>versioning_test.py</td>\n",
       "      <td>PASSED</td>\n",
       "    </tr>\n",
       "  </tbody>\n",
       "</table>\n",
       "<p>432 rows × 2 columns</p>\n",
       "</div>"
      ],
      "text/plain": [
       "                                                                  category  \\\n",
       "pytest_tests_status                                                          \n",
       "test_boto_upload_object_with_cold_storage_class       cold_storage_test.py   \n",
       "test_boto_object_with_custom_metadata_acls_and_...    cold_storage_test.py   \n",
       "test_boto_list_objects_with_cold_storage_class        cold_storage_test.py   \n",
       "test_boto_change_object_class_to_cold_storage         cold_storage_test.py   \n",
       "test_boto_multipart_upload_with_cold_storage_class    cold_storage_test.py   \n",
       "...                                                                    ...   \n",
       "test_delete_bucket_with_objects_with_versions       versioning_cli_test.py   \n",
       "test_delete_bucket_with_objects_with_versions       versioning_cli_test.py   \n",
       "test_delete_bucket_with_objects_with_versions       versioning_cli_test.py   \n",
       "test_delete_object_with_versions                        versioning_test.py   \n",
       "test_delete_bucket_with_objects_with_versions           versioning_test.py   \n",
       "\n",
       "                                                    status  \n",
       "pytest_tests_status                                         \n",
       "test_boto_upload_object_with_cold_storage_class     PASSED  \n",
       "test_boto_object_with_custom_metadata_acls_and_...  PASSED  \n",
       "test_boto_list_objects_with_cold_storage_class      PASSED  \n",
       "test_boto_change_object_class_to_cold_storage       PASSED  \n",
       "test_boto_multipart_upload_with_cold_storage_class  PASSED  \n",
       "...                                                    ...  \n",
       "test_delete_bucket_with_objects_with_versions       PASSED  \n",
       "test_delete_bucket_with_objects_with_versions       PASSED  \n",
       "test_delete_bucket_with_objects_with_versions       PASSED  \n",
       "test_delete_object_with_versions                    PASSED  \n",
       "test_delete_bucket_with_objects_with_versions       PASSED  \n",
       "\n",
       "[432 rows x 2 columns]"
      ]
     },
     "metadata": {},
     "output_type": "display_data"
    },
    {
     "data": {
      "text/html": [
       "<div>\n",
       "<style scoped>\n",
       "    .dataframe tbody tr th:only-of-type {\n",
       "        vertical-align: middle;\n",
       "    }\n",
       "\n",
       "    .dataframe tbody tr th {\n",
       "        vertical-align: top;\n",
       "    }\n",
       "\n",
       "    .dataframe thead th {\n",
       "        text-align: right;\n",
       "    }\n",
       "</style>\n",
       "<table border=\"1\" class=\"dataframe\">\n",
       "  <thead>\n",
       "    <tr style=\"text-align: right;\">\n",
       "      <th></th>\n",
       "      <th>category</th>\n",
       "      <th>FAILED</th>\n",
       "      <th>PASSED</th>\n",
       "    </tr>\n",
       "  </thead>\n",
       "  <tbody>\n",
       "    <tr>\n",
       "      <th>0</th>\n",
       "      <td>versioning_cli_test.py</td>\n",
       "      <td>2</td>\n",
       "      <td>22</td>\n",
       "    </tr>\n",
       "    <tr>\n",
       "      <th>1</th>\n",
       "      <td>acl_test.py</td>\n",
       "      <td>0</td>\n",
       "      <td>232</td>\n",
       "    </tr>\n",
       "    <tr>\n",
       "      <th>2</th>\n",
       "      <td>cold_storage_test.py</td>\n",
       "      <td>0</td>\n",
       "      <td>20</td>\n",
       "    </tr>\n",
       "    <tr>\n",
       "      <th>3</th>\n",
       "      <td>list-buckets_test.py</td>\n",
       "      <td>0</td>\n",
       "      <td>16</td>\n",
       "    </tr>\n",
       "    <tr>\n",
       "      <th>4</th>\n",
       "      <td>locking_test.py</td>\n",
       "      <td>0</td>\n",
       "      <td>4</td>\n",
       "    </tr>\n",
       "    <tr>\n",
       "      <th>5</th>\n",
       "      <td>policies_test.py</td>\n",
       "      <td>0</td>\n",
       "      <td>84</td>\n",
       "    </tr>\n",
       "    <tr>\n",
       "      <th>6</th>\n",
       "      <td>presigned-urls_test.py</td>\n",
       "      <td>0</td>\n",
       "      <td>12</td>\n",
       "    </tr>\n",
       "    <tr>\n",
       "      <th>7</th>\n",
       "      <td>profiles_policies_test.py</td>\n",
       "      <td>0</td>\n",
       "      <td>24</td>\n",
       "    </tr>\n",
       "    <tr>\n",
       "      <th>8</th>\n",
       "      <td>unique-bucket-name_test.py</td>\n",
       "      <td>0</td>\n",
       "      <td>8</td>\n",
       "    </tr>\n",
       "    <tr>\n",
       "      <th>9</th>\n",
       "      <td>versioning_test.py</td>\n",
       "      <td>0</td>\n",
       "      <td>8</td>\n",
       "    </tr>\n",
       "  </tbody>\n",
       "</table>\n",
       "</div>"
      ],
      "text/plain": [
       "                     category  FAILED  PASSED\n",
       "0      versioning_cli_test.py       2      22\n",
       "1                 acl_test.py       0     232\n",
       "2        cold_storage_test.py       0      20\n",
       "3        list-buckets_test.py       0      16\n",
       "4             locking_test.py       0       4\n",
       "5            policies_test.py       0      84\n",
       "6      presigned-urls_test.py       0      12\n",
       "7   profiles_policies_test.py       0      24\n",
       "8  unique-bucket-name_test.py       0       8\n",
       "9          versioning_test.py       0       8"
      ]
     },
     "metadata": {},
     "output_type": "display_data"
    }
   ],
   "source": [
    "# Setup\n",
    "error_distribution_df = all_tests_df[['category', 'status']]\n",
    "error_passed_info = error_distribution_df.groupby(['status','category']).value_counts()\n",
    "\n",
    "status_freq_df = pd.concat([error_passed_info.FAILED, error_passed_info.PASSED], axis=1).fillna(0).astype(int)\n",
    "status_freq_df.columns = ['FAILED','PASSED']\n",
    "status_freq_df = status_freq_df.reset_index()\n",
    "error_df = all_failures_df\n",
    "display(error_distribution_df)\n",
    "display(status_freq_df)"
   ]
  },
  {
   "cell_type": "code",
   "execution_count": 8,
   "metadata": {},
   "outputs": [],
   "source": [
    "def error_distribution_pie_chat_plt(error_df):\n",
    "\n",
    "    plt.figure(figsize=(5, 5))\n",
    "    plt.pie(\n",
    "        error_passed_info['FAILED'].values,\n",
    "        labels=error_passed_info['FAILED'].index.to_list(),\n",
    "        autopct='%1.1f%%',\n",
    "        startangle=90,\n",
    "        colors=['firebrick', 'lightgreen', 'lightskyblue'],\n",
    "    )\n",
    "    plt.legend(title=\"Error Types\", loc=\"upper right\", bbox_to_anchor=(1.3, 1))\n",
    "    plt.title('Failure Distribution')\n",
    "    plt.tight_layout()\n",
    "\n",
    "    #return fig"
   ]
  },
  {
   "cell_type": "code",
   "execution_count": 9,
   "metadata": {},
   "outputs": [],
   "source": [
    "def error_distribution_pie_chart(error_df):\n",
    "    # Filter for FAILED status\n",
    "    failed_df = error_df[error_df['status'] == 'FAILED']\n",
    "\n",
    "    # Group by category and count the number of FAILED statuses\n",
    "    failed_counts = failed_df.groupby('category').size().reset_index(name='count')\n",
    "\n",
    "    # Create the pie chart\n",
    "    fig = px.pie(\n",
    "        failed_counts, \n",
    "        names=\"category\",  # Use 'category' for pie slice labels\n",
    "        values=\"count\",    # Use 'count' for pie slice sizes\n",
    "        title=\"Distribuição de falhas por categoria\",\n",
    "        color_discrete_sequence=px.colors.sequential.RdBu,\n",
    "    )\n",
    "\n",
    "    fig.update_layout(\n",
    "    #   width=400,  # Set the width of the plot (in pixels)\n",
    "    #  height=400,  # Set the height of the plot (in pixels)\n",
    "        margin=dict(l=20, r=20, t=40, b=20)  # Adjust margins if needed\n",
    "    )\n",
    "\n",
    "    # Make the pie chart circle bigger by adjusting the marker size\n",
    "    fig.update_traces(\n",
    "        marker=dict(line=dict(color='white', width=2)),  # Optional: Add a white border\n",
    "        textposition='inside',  # Display text inside the slices\n",
    "        textinfo='percent+label'  # Show percentage and label\n",
    "    )\n",
    "\n",
    "    with tempfile.NamedTemporaryFile(suffix=\".png\", delete=False) as tmpfile:\n",
    "        fig.write_image(tmpfile.name, format=\"png\", width=800, height=400)\n",
    "        return tmpfile.name\n",
    "    "
   ]
  },
  {
   "cell_type": "code",
   "execution_count": 10,
   "metadata": {},
   "outputs": [],
   "source": [
    "def plot_category_errors_bar(error_df):\n",
    "    # Calculate the frequency of errors per category\n",
    "    error_freq_df = error_df.groupby(['category', 'error']).size().reset_index(name='frequency')\n",
    "\n",
    "    # Create the bar plot\n",
    "    fig = px.bar(\n",
    "        error_freq_df, \n",
    "        x=\"category\", \n",
    "        y=\"frequency\", \n",
    "        color=\"error\",  # Use a discrete color sequence\n",
    "        color_discrete_sequence=px.colors.sequential.RdBu,\n",
    "        title=\"Frequência de erros por categoria\",\n",
    "        labels={'frequency': 'Frequency of Errors', 'category': 'Category'},\n",
    "    )\n",
    "\n",
    "    # Adjust layout to control bar width\n",
    "    fig.update_layout(\n",
    "        xaxis_title=\"Category\",\n",
    "        yaxis_title=\"Frequency of Errors\",\n",
    "        barmode='stack',  \n",
    "        bargroupgap=0.1,  \n",
    "        width=600,\n",
    "        margin=dict(l=20, r=20, t=40, b=20)  \n",
    "    )\n",
    "\n",
    "    with tempfile.NamedTemporaryFile(suffix=\".png\", delete=False) as tmpfile:\n",
    "        fig.write_image(tmpfile.name, format=\"png\", width=800, height=400)\n",
    "        return tmpfile.name"
   ]
  },
  {
   "cell_type": "code",
   "execution_count": 11,
   "metadata": {},
   "outputs": [],
   "source": [
    "def categories_failures_passed_rate(status_freq_df):\n",
    "    # Calcular totais e percentuais\n",
    "    status_freq_df['Total'] = status_freq_df['PASSED'] + status_freq_df['FAILED']\n",
    "    status_freq_df['PASSED_pct'] = (status_freq_df['PASSED'] / status_freq_df['Total']) * 100\n",
    "    status_freq_df['FAILED_pct'] = (status_freq_df['FAILED'] / status_freq_df['Total']) * 100\n",
    "\n",
    "    # Transformar dados para formato longo\n",
    "    status_freq_long = status_freq_df.melt(\n",
    "        id_vars=['category'], \n",
    "        value_vars=['PASSED_pct', 'FAILED_pct'], \n",
    "        var_name='Status', \n",
    "        value_name='Percentage'\n",
    "    )\n",
    "\n",
    "    # Criar coluna com valores reais correspondentes\n",
    "    status_freq_long['Real Value'] = status_freq_long.apply(\n",
    "        lambda row: status_freq_df.loc[status_freq_df['category'] == row['category'], row['Status'].replace('_pct', '')].values[0], \n",
    "        axis=1\n",
    "    )\n",
    "\n",
    "    # Criar gráfico\n",
    "    fig = px.bar(\n",
    "        status_freq_long, \n",
    "        x=\"category\", \n",
    "        y=\"Percentage\", \n",
    "        color=\"Status\", \n",
    "        barmode='stack', \n",
    "        title=\"Proporção de testes Aprovados/Falho\",\n",
    "        labels={'Percentage': 'Percentage'},\n",
    "        text=status_freq_long[\"Real Value\"]  # Exibir valores reais nas barras\n",
    "    )\n",
    "\n",
    "    # Ajustar layout para exibir os valores dentro das barras\n",
    "    fig.update_traces(texttemplate='%{text}', textposition='inside')\n",
    "    fig.update_yaxes(title='Percentage')\n",
    "    fig.update_xaxes(title='Category')\n",
    "\n",
    "    with tempfile.NamedTemporaryFile(suffix=\".png\", delete=False) as tmpfile:\n",
    "        fig.write_image(tmpfile.name, format=\"png\", width=800, height=400)\n",
    "        return tmpfile.name"
   ]
  },
  {
   "cell_type": "code",
   "execution_count": 12,
   "metadata": {},
   "outputs": [
    {
     "data": {
      "text/plain": [
       "{'category_errors_bar': '/tmp/tmp1xe00lzm.png',\n",
       " 'error_distribution_pie': '/tmp/tmpfu31gf3y.png',\n",
       " 'failures_passed_rate': '/tmp/tmpqog7xzkr.png'}"
      ]
     },
     "execution_count": 12,
     "metadata": {},
     "output_type": "execute_result"
    }
   ],
   "source": [
    "def build_all_graphs():\n",
    "    return {\n",
    "        'category_errors_bar': plot_category_errors_bar(error_df),\n",
    "        'error_distribution_pie': error_distribution_pie_chart(error_distribution_df),\n",
    "        'failures_passed_rate': categories_failures_passed_rate(status_freq_df),\n",
    "    }\n",
    "\n",
    "build_all_graphs()"
   ]
  },
  {
   "cell_type": "markdown",
   "metadata": {},
   "source": [
    "## Creating pdf"
   ]
  },
  {
   "cell_type": "code",
   "execution_count": 13,
   "metadata": {},
   "outputs": [
    {
     "data": {
      "text/html": [
       "<div>\n",
       "<style scoped>\n",
       "    .dataframe tbody tr th:only-of-type {\n",
       "        vertical-align: middle;\n",
       "    }\n",
       "\n",
       "    .dataframe tbody tr th {\n",
       "        vertical-align: top;\n",
       "    }\n",
       "\n",
       "    .dataframe thead th {\n",
       "        text-align: right;\n",
       "    }\n",
       "</style>\n",
       "<table border=\"1\" class=\"dataframe\">\n",
       "  <thead>\n",
       "    <tr style=\"text-align: right;\">\n",
       "      <th>status</th>\n",
       "      <th>FAILED</th>\n",
       "      <th>PASSED</th>\n",
       "      <th>total</th>\n",
       "    </tr>\n",
       "    <tr>\n",
       "      <th>category</th>\n",
       "      <th></th>\n",
       "      <th></th>\n",
       "      <th></th>\n",
       "    </tr>\n",
       "  </thead>\n",
       "  <tbody>\n",
       "    <tr>\n",
       "      <th>acl_test.py</th>\n",
       "      <td>0.0</td>\n",
       "      <td>232.0</td>\n",
       "      <td>232.0</td>\n",
       "    </tr>\n",
       "    <tr>\n",
       "      <th>cold_storage_test.py</th>\n",
       "      <td>0.0</td>\n",
       "      <td>20.0</td>\n",
       "      <td>20.0</td>\n",
       "    </tr>\n",
       "    <tr>\n",
       "      <th>list-buckets_test.py</th>\n",
       "      <td>0.0</td>\n",
       "      <td>16.0</td>\n",
       "      <td>16.0</td>\n",
       "    </tr>\n",
       "    <tr>\n",
       "      <th>locking_test.py</th>\n",
       "      <td>0.0</td>\n",
       "      <td>4.0</td>\n",
       "      <td>4.0</td>\n",
       "    </tr>\n",
       "    <tr>\n",
       "      <th>policies_test.py</th>\n",
       "      <td>0.0</td>\n",
       "      <td>84.0</td>\n",
       "      <td>84.0</td>\n",
       "    </tr>\n",
       "    <tr>\n",
       "      <th>presigned-urls_test.py</th>\n",
       "      <td>0.0</td>\n",
       "      <td>12.0</td>\n",
       "      <td>12.0</td>\n",
       "    </tr>\n",
       "    <tr>\n",
       "      <th>profiles_policies_test.py</th>\n",
       "      <td>0.0</td>\n",
       "      <td>24.0</td>\n",
       "      <td>24.0</td>\n",
       "    </tr>\n",
       "    <tr>\n",
       "      <th>unique-bucket-name_test.py</th>\n",
       "      <td>0.0</td>\n",
       "      <td>8.0</td>\n",
       "      <td>8.0</td>\n",
       "    </tr>\n",
       "    <tr>\n",
       "      <th>versioning_cli_test.py</th>\n",
       "      <td>2.0</td>\n",
       "      <td>22.0</td>\n",
       "      <td>24.0</td>\n",
       "    </tr>\n",
       "    <tr>\n",
       "      <th>versioning_test.py</th>\n",
       "      <td>0.0</td>\n",
       "      <td>8.0</td>\n",
       "      <td>8.0</td>\n",
       "    </tr>\n",
       "  </tbody>\n",
       "</table>\n",
       "</div>"
      ],
      "text/plain": [
       "status                      FAILED  PASSED  total\n",
       "category                                         \n",
       "acl_test.py                    0.0   232.0  232.0\n",
       "cold_storage_test.py           0.0    20.0   20.0\n",
       "list-buckets_test.py           0.0    16.0   16.0\n",
       "locking_test.py                0.0     4.0    4.0\n",
       "policies_test.py               0.0    84.0   84.0\n",
       "presigned-urls_test.py         0.0    12.0   12.0\n",
       "profiles_policies_test.py      0.0    24.0   24.0\n",
       "unique-bucket-name_test.py     0.0     8.0    8.0\n",
       "versioning_cli_test.py         2.0    22.0   24.0\n",
       "versioning_test.py             0.0     8.0    8.0"
      ]
     },
     "execution_count": 13,
     "metadata": {},
     "output_type": "execute_result"
    }
   ],
   "source": [
    "p = all_tests_df.groupby(['category','status']).size().unstack('status').fillna(0)\n",
    "p['total'] = p['FAILED'] + p['PASSED']\n",
    "p"
   ]
  },
  {
   "cell_type": "code",
   "execution_count": 14,
   "metadata": {},
   "outputs": [
    {
     "data": {
      "text/html": [
       "<div>\n",
       "<style scoped>\n",
       "    .dataframe tbody tr th:only-of-type {\n",
       "        vertical-align: middle;\n",
       "    }\n",
       "\n",
       "    .dataframe tbody tr th {\n",
       "        vertical-align: top;\n",
       "    }\n",
       "\n",
       "    .dataframe thead th {\n",
       "        text-align: right;\n",
       "    }\n",
       "</style>\n",
       "<table border=\"1\" class=\"dataframe\">\n",
       "  <thead>\n",
       "    <tr style=\"text-align: right;\">\n",
       "      <th></th>\n",
       "      <th>num_passed</th>\n",
       "      <th>num_failed</th>\n",
       "      <th>total_runs</th>\n",
       "      <th>min_test_time</th>\n",
       "      <th>avg_test_time</th>\n",
       "      <th>total_duration</th>\n",
       "    </tr>\n",
       "  </thead>\n",
       "  <tbody>\n",
       "    <tr>\n",
       "      <th>cold_storage_test.py</th>\n",
       "      <td>20</td>\n",
       "      <td>0</td>\n",
       "      <td>20</td>\n",
       "      <td>19.314</td>\n",
       "      <td>19.314</td>\n",
       "      <td>19.314</td>\n",
       "    </tr>\n",
       "    <tr>\n",
       "      <th>presigned-urls_test.py</th>\n",
       "      <td>12</td>\n",
       "      <td>0</td>\n",
       "      <td>12</td>\n",
       "      <td>19.223</td>\n",
       "      <td>19.223</td>\n",
       "      <td>19.223</td>\n",
       "    </tr>\n",
       "    <tr>\n",
       "      <th>list-buckets_test.py</th>\n",
       "      <td>16</td>\n",
       "      <td>0</td>\n",
       "      <td>16</td>\n",
       "      <td>18.272</td>\n",
       "      <td>18.272</td>\n",
       "      <td>18.272</td>\n",
       "    </tr>\n",
       "    <tr>\n",
       "      <th>unique-bucket-name_test.py</th>\n",
       "      <td>8</td>\n",
       "      <td>0</td>\n",
       "      <td>8</td>\n",
       "      <td>18.168</td>\n",
       "      <td>18.168</td>\n",
       "      <td>18.168</td>\n",
       "    </tr>\n",
       "    <tr>\n",
       "      <th>acl_test.py</th>\n",
       "      <td>232</td>\n",
       "      <td>0</td>\n",
       "      <td>232</td>\n",
       "      <td>33.804</td>\n",
       "      <td>33.804</td>\n",
       "      <td>33.804</td>\n",
       "    </tr>\n",
       "    <tr>\n",
       "      <th>versioning_cli_test.py</th>\n",
       "      <td>22</td>\n",
       "      <td>2</td>\n",
       "      <td>24</td>\n",
       "      <td>18.151</td>\n",
       "      <td>18.151</td>\n",
       "      <td>18.151</td>\n",
       "    </tr>\n",
       "    <tr>\n",
       "      <th>versioning_test.py</th>\n",
       "      <td>8</td>\n",
       "      <td>0</td>\n",
       "      <td>8</td>\n",
       "      <td>18.201</td>\n",
       "      <td>18.201</td>\n",
       "      <td>18.201</td>\n",
       "    </tr>\n",
       "    <tr>\n",
       "      <th>policies_test.py</th>\n",
       "      <td>84</td>\n",
       "      <td>0</td>\n",
       "      <td>84</td>\n",
       "      <td>17.338</td>\n",
       "      <td>17.338</td>\n",
       "      <td>17.338</td>\n",
       "    </tr>\n",
       "    <tr>\n",
       "      <th>locking_test.py</th>\n",
       "      <td>4</td>\n",
       "      <td>0</td>\n",
       "      <td>4</td>\n",
       "      <td>54.964</td>\n",
       "      <td>54.964</td>\n",
       "      <td>54.964</td>\n",
       "    </tr>\n",
       "    <tr>\n",
       "      <th>profiles_policies_test.py</th>\n",
       "      <td>24</td>\n",
       "      <td>0</td>\n",
       "      <td>24</td>\n",
       "      <td>50.807</td>\n",
       "      <td>54.577</td>\n",
       "      <td>164.509</td>\n",
       "    </tr>\n",
       "  </tbody>\n",
       "</table>\n",
       "</div>"
      ],
      "text/plain": [
       "                            num_passed  num_failed  total_runs  min_test_time  \\\n",
       "cold_storage_test.py                20           0          20         19.314   \n",
       "presigned-urls_test.py              12           0          12         19.223   \n",
       "list-buckets_test.py                16           0          16         18.272   \n",
       "unique-bucket-name_test.py           8           0           8         18.168   \n",
       "acl_test.py                        232           0         232         33.804   \n",
       "versioning_cli_test.py              22           2          24         18.151   \n",
       "versioning_test.py                   8           0           8         18.201   \n",
       "policies_test.py                    84           0          84         17.338   \n",
       "locking_test.py                      4           0           4         54.964   \n",
       "profiles_policies_test.py           24           0          24         50.807   \n",
       "\n",
       "                            avg_test_time  total_duration  \n",
       "cold_storage_test.py               19.314          19.314  \n",
       "presigned-urls_test.py             19.223          19.223  \n",
       "list-buckets_test.py               18.272          18.272  \n",
       "unique-bucket-name_test.py         18.168          18.168  \n",
       "acl_test.py                        33.804          33.804  \n",
       "versioning_cli_test.py             18.151          18.151  \n",
       "versioning_test.py                 18.201          18.201  \n",
       "policies_test.py                   17.338          17.338  \n",
       "locking_test.py                    54.964          54.964  \n",
       "profiles_policies_test.py          54.577         164.509  "
      ]
     },
     "execution_count": 14,
     "metadata": {},
     "output_type": "execute_result"
    }
   ],
   "source": [
    "# Generate a tuple with the category name and the summed up values of all index of said class\n",
    "def get_time(metric):\n",
    "    return pd.Series(dict(map(lambda t, x: (x, all_times_df.loc[all_times_df.index == t, metric].sum()), all_tests_df.index.unique(), all_tests_df.category.unique())))\n",
    "\n",
    "total_times = get_time('total')\n",
    "avg_time_test = get_time('avg')\n",
    "min_test_time  = get_time('min')\n",
    "\n",
    "cpf_df = all_tests_df.groupby(['category','status']).size().unstack('status').fillna(0).astype(int)\n",
    "cpf_df['total'] = cpf_df.sum(axis=1)\n",
    "time_count_df = pd.concat([cpf_df['PASSED'], cpf_df['FAILED'], cpf_df['total'], min_test_time, avg_time_test, total_times], axis=1)\n",
    "time_count_df.columns = ['num_passed', 'num_failed', 'total_runs', 'min_test_time', 'avg_test_time', 'total_duration']\n",
    "\n",
    "report_df = pd.DataFrame()\n",
    "report_df['name'] = all_tests_df['category'].unique()\n",
    "report_df = report_df.set_index('name')\n",
    "\n",
    "report_df = pd.concat([report_df, time_count_df], axis=1)\n",
    "report_df"
   ]
  },
  {
   "cell_type": "code",
   "execution_count": 15,
   "metadata": {},
   "outputs": [
    {
     "data": {
      "text/html": [
       "<div>\n",
       "<style scoped>\n",
       "    .dataframe tbody tr th:only-of-type {\n",
       "        vertical-align: middle;\n",
       "    }\n",
       "\n",
       "    .dataframe tbody tr th {\n",
       "        vertical-align: top;\n",
       "    }\n",
       "\n",
       "    .dataframe thead th {\n",
       "        text-align: right;\n",
       "    }\n",
       "</style>\n",
       "<table border=\"1\" class=\"dataframe\">\n",
       "  <thead>\n",
       "    <tr style=\"text-align: right;\">\n",
       "      <th></th>\n",
       "      <th>status</th>\n",
       "      <th>category</th>\n",
       "      <th>error</th>\n",
       "      <th>error_details</th>\n",
       "      <th>databaseId</th>\n",
       "    </tr>\n",
       "    <tr>\n",
       "      <th>pytest_failures_errors</th>\n",
       "      <th></th>\n",
       "      <th></th>\n",
       "      <th></th>\n",
       "      <th></th>\n",
       "      <th></th>\n",
       "    </tr>\n",
       "  </thead>\n",
       "  <tbody>\n",
       "    <tr>\n",
       "      <th>test_delete_object_with_versions</th>\n",
       "      <td>FAILED</td>\n",
       "      <td>versioning_cli_test.py</td>\n",
       "      <td>AssertionError</td>\n",
       "      <td>Command failed with error: Error: (NoSuchBuck...</td>\n",
       "      <td>13269149128</td>\n",
       "    </tr>\n",
       "    <tr>\n",
       "      <th>test_delete_bucket_with_objects_with_versions</th>\n",
       "      <td>FAILED</td>\n",
       "      <td>versioning_cli_test.py</td>\n",
       "      <td>assert</td>\n",
       "      <td>'the bucket may not be empty' in 'WARN\\tgithub...</td>\n",
       "      <td>13269149128</td>\n",
       "    </tr>\n",
       "  </tbody>\n",
       "</table>\n",
       "</div>"
      ],
      "text/plain": [
       "                                               status                category  \\\n",
       "pytest_failures_errors                                                          \n",
       "test_delete_object_with_versions               FAILED  versioning_cli_test.py   \n",
       "test_delete_bucket_with_objects_with_versions  FAILED  versioning_cli_test.py   \n",
       "\n",
       "                                                        error  \\\n",
       "pytest_failures_errors                                          \n",
       "test_delete_object_with_versions               AssertionError   \n",
       "test_delete_bucket_with_objects_with_versions          assert   \n",
       "\n",
       "                                                                                   error_details  \\\n",
       "pytest_failures_errors                                                                             \n",
       "test_delete_object_with_versions                Command failed with error: Error: (NoSuchBuck...   \n",
       "test_delete_bucket_with_objects_with_versions  'the bucket may not be empty' in 'WARN\\tgithub...   \n",
       "\n",
       "                                                databaseId  \n",
       "pytest_failures_errors                                      \n",
       "test_delete_object_with_versions               13269149128  \n",
       "test_delete_bucket_with_objects_with_versions  13269149128  "
      ]
     },
     "execution_count": 15,
     "metadata": {},
     "output_type": "execute_result"
    }
   ],
   "source": [
    "# Generate tuple with error values \n",
    "errors_df = all_failures_df\n",
    "errors_df"
   ]
  },
  {
   "cell_type": "markdown",
   "metadata": {},
   "source": [
    "Blocos que vão existir\n",
    "\n",
    "Topo: Contendo Informações básicas do relatório e se possível alguns campos em branco e também a data de quando o código foi executado\n",
    "\n",
    "Texto: Informações gerais do número de acertos e erros\n",
    "\n",
    "Tabela: Contem o dataframe report_df, mas estilizado\n",
    "\n",
    "Gráficos: fica pra dps"
   ]
  },
  {
   "cell_type": "code",
   "execution_count": 16,
   "metadata": {},
   "outputs": [
    {
     "data": {
      "text/html": [
       "<div>\n",
       "<style scoped>\n",
       "    .dataframe tbody tr th:only-of-type {\n",
       "        vertical-align: middle;\n",
       "    }\n",
       "\n",
       "    .dataframe tbody tr th {\n",
       "        vertical-align: top;\n",
       "    }\n",
       "\n",
       "    .dataframe thead th {\n",
       "        text-align: right;\n",
       "    }\n",
       "</style>\n",
       "<table border=\"1\" class=\"dataframe\">\n",
       "  <thead>\n",
       "    <tr style=\"text-align: right;\">\n",
       "      <th></th>\n",
       "      <th>Nome</th>\n",
       "      <th>Status</th>\n",
       "      <th>Categoria do Teste</th>\n",
       "      <th>Tipo de erro</th>\n",
       "      <th>JobId</th>\n",
       "    </tr>\n",
       "  </thead>\n",
       "  <tbody>\n",
       "    <tr>\n",
       "      <th>0</th>\n",
       "      <td>test_delete_object_with_versions</td>\n",
       "      <td>FAILED</td>\n",
       "      <td>versioning_cli_test.py</td>\n",
       "      <td>AssertionError</td>\n",
       "      <td>13269149128</td>\n",
       "    </tr>\n",
       "    <tr>\n",
       "      <th>1</th>\n",
       "      <td>test_delete_bucket_with_objects_with_versions</td>\n",
       "      <td>FAILED</td>\n",
       "      <td>versioning_cli_test.py</td>\n",
       "      <td>assert</td>\n",
       "      <td>13269149128</td>\n",
       "    </tr>\n",
       "  </tbody>\n",
       "</table>\n",
       "</div>"
      ],
      "text/plain": [
       "                                            Nome  Status  \\\n",
       "0               test_delete_object_with_versions  FAILED   \n",
       "1  test_delete_bucket_with_objects_with_versions  FAILED   \n",
       "\n",
       "       Categoria do Teste    Tipo de erro        JobId  \n",
       "0  versioning_cli_test.py  AssertionError  13269149128  \n",
       "1  versioning_cli_test.py          assert  13269149128  "
      ]
     },
     "metadata": {},
     "output_type": "display_data"
    }
   ],
   "source": [
    "df = report_df.reset_index().round(2)\n",
    "# Function to create PDF\n",
    "def create_pdf(df, df_errors):\n",
    "    # A4 size dimensions\n",
    "    width, height = A4\n",
    "\n",
    "    # Set 10% margin\n",
    "    margin = 0.1 * width\n",
    "\n",
    "    # Create PDF with margins\n",
    "    doc = SimpleDocTemplate(\"report_v0.pdf\", pagesize=A4,\n",
    "                            leftMargin=margin, rightMargin=margin, topMargin=0.1*height, bottomMargin=0.1*height)\n",
    "\n",
    "    # Styles\n",
    "    styles = getSampleStyleSheet()\n",
    "    heading_style = styles['Heading1']\n",
    "    normal_style = styles['Normal']\n",
    "    normal_style.alignment = 0  # 0 for left alignment\n",
    "\n",
    "    bold_style = ParagraphStyle(\n",
    "        name=\"Bold\",\n",
    "        parent=normal_style,\n",
    "        fontName=\"Helvetica-Bold\",\n",
    "        fontSize=12\n",
    "    )\n",
    "\n",
    "    # Create the story (content) for the PDF\n",
    "    story = []\n",
    "\n",
    "    # Add title with fields\n",
    "    story.extend(create_title(heading_style,normal_style))\n",
    "\n",
    "    # Add each section to the story\n",
    "    story.extend(create_execution_summary(df, normal_style, bold_style))\n",
    "    story.extend(create_detailed_results(df, normal_style, bold_style, width, margin))\n",
    "    story.extend(create_errors_summary(df_errors, normal_style, bold_style, width, margin))\n",
    "    story.extend(create_graphs(normal_style, bold_style, width, margin))\n",
    "    # Build PDF\n",
    "    doc.build(story)\n",
    "\n",
    "# Function to create the title zone and text on the pdf\n",
    "def create_title(heading_style, normal_style):\n",
    "    # Initialize the story list\n",
    "    story = []\n",
    "\n",
    "    # Get current date and time\n",
    "    agora = datetime.now()\n",
    "    horario_dia = agora.strftime(\"%d/%m/%Y %H:%M:%S\")\n",
    "\n",
    "    # Create the title\n",
    "    title_text = \"Sumário de Resultados dos Testes\"\n",
    "    title_paragraph = Paragraph(f\"<b>{title_text}</b>\", heading_style)\n",
    "\n",
    "    # Create the formatted text for the execution date on the right side\n",
    "    right_date_style = ParagraphStyle(\n",
    "        \"RightDateStyle\", parent=normal_style, alignment=2, fontSize=10\n",
    "    )\n",
    "    date_paragraph = Paragraph(horario_dia, right_date_style)\n",
    "\n",
    "    # Add title and date to the story as separate elements\n",
    "    story.append(title_paragraph)\n",
    "    story.append(date_paragraph)\n",
    "\n",
    "    # Create the formatted text for the execution date, system version, and environment\n",
    "    execution_paragraph = Paragraph(f\"Data da Execução: \", normal_style)\n",
    "    version_paragraph = Paragraph(\"Versão do Sistema: \", normal_style)\n",
    "    environment_paragraph = Paragraph(\"Ambiente: \", normal_style)\n",
    "\n",
    "    # Add other paragraphs to the story\n",
    "    story.append(execution_paragraph)\n",
    "    story.append(Spacer(1, 12))  # Spacer between execution and version\n",
    "    story.append(version_paragraph)\n",
    "    story.append(Spacer(1, 12))  # Spacer between version and environment\n",
    "    story.append(environment_paragraph)\n",
    "\n",
    "    story.append(Spacer(1, 24))  # Add space at the end\n",
    "\n",
    "    # Return the complete story\n",
    "    return story\n",
    "\n",
    "# Function to create execution summary table with bullet points\n",
    "def create_execution_summary(df, normal_style, bold_style):\n",
    "    story = []\n",
    "    story.append(Paragraph(\"Resumo Geral\", bold_style))\n",
    "    story.append(Spacer(1, 6))\n",
    "\n",
    "    # Criando a lista de resumo corretamente\n",
    "    summary_data = {\n",
    "        'Total de Testes:': df['total_runs'].sum(),\n",
    "        'Testes Bem-Sucedidos:': df['num_passed'].sum(),\n",
    "        'Testes com Falha:': df['num_failed'].sum(),\n",
    "        #'Taxa de Sucessos/Falha:': f\"{(df['num_failed'] / df['num_passed'] * 100).round(2)}%\",  # Round to 2 decimal places\n",
    "        'Tempo Mínimo de Execução:': f\"{df['min_test_time'].min():.2f} s\",\n",
    "        'Tempo Médio de Execução:': f\"{df['avg_test_time'].mean():.2f} s\",\n",
    "        'Duração Total dos Testes:': f\"{df['total_duration'].sum():.2f} s\"\n",
    "    }\n",
    "\n",
    "    # Criando a lista com bullet points\n",
    "    bullet_points = [\n",
    "        ListItem(Paragraph(f\"<b>{key}</b> {value}\", normal_style), leftIndent=20, spaceAfter=6)\n",
    "        for key, value in summary_data.items()\n",
    "    ]\n",
    "\n",
    "    # Criando o ListFlowable\n",
    "    list_flowable = ListFlowable(bullet_points, bulletType='bullet', leftIndent=20)\n",
    "\n",
    "    # Adicionando ao relatório\n",
    "    story.append(list_flowable)\n",
    "    story.append(Spacer(1, 24))\n",
    "\n",
    "    return story\n",
    "\n",
    "# Function to create detailed results table\n",
    "def create_detailed_results(df, normal_style, bold_style, width, margin):\n",
    "    story = []\n",
    "    story.append(Paragraph(\"Detalhamento dos Testes\", bold_style))\n",
    "    story.append(Spacer(1, 12))\n",
    "    df_renamed = df.copy()  # Create a copy of the DataFrame\n",
    "    df_renamed.columns = [\n",
    "        'Categoria de Teste', \n",
    "        'Testes Bem-Sucedidos', \n",
    "        'Falhas', \n",
    "        'Execuções', \n",
    "        'Tempo Mínimo de Execução', \n",
    "        'Tempo Médio', \n",
    "        'Duração Total'\n",
    "    ]\n",
    "\n",
    "\n",
    "    # Dropping the specified columns\n",
    "    df_renamed = df_renamed.drop(columns=['Tempo Mínimo de Execução'])\n",
    "\n",
    "    df_renamed['Tempo Médio'] = df_renamed['Tempo Médio'].astype(str) + ' sec'\n",
    "    df_renamed['Duração Total'] = df_renamed['Duração Total'].astype(str) + ' sec'\n",
    "\n",
    "    # Prepare the detailed data for the table\n",
    "    detailed_tests_data = [[Paragraph(str(value), normal_style) for value in df_renamed.columns.tolist()]]  # Add header\n",
    "    detailed_tests_data.extend(\n",
    "        [[Paragraph(str(value), normal_style) for value in row] for row in df_renamed.values.tolist()]\n",
    "    )\n",
    "\n",
    "    # Calculate available width after applying margins\n",
    "    available_width = width - 2 * margin  # Subtracting left and right margins\n",
    "\n",
    "    # Define column proportions\n",
    "    proportions = [0.3, 0.15, 0.15, 0.15, 0.2]  # Example proportions\n",
    "\n",
    "    total_proportion = sum(proportions)\n",
    "    if total_proportion > 1:\n",
    "        proportions = [p / total_proportion for p in proportions]  # Scale proportions to fit within 1\n",
    "\n",
    "    # Calculate column widths based on the available width\n",
    "    col_widths = [available_width * p for p in proportions]\n",
    "\n",
    "    # Create the table\n",
    "    detailed_table = Table(detailed_tests_data, colWidths=col_widths)\n",
    "    detailed_table.setStyle(TableStyle([('ALIGN', (0, 0), (-1, -1), 'CENTER'),\n",
    "                                        ('GRID', (0, 0), (-1, -1), 0.5, colors.black)]))\n",
    "    story.append(detailed_table)\n",
    "    story.append(Spacer(1, 24))\n",
    "\n",
    "    return story\n",
    "\n",
    "def create_errors_summary(df, normal_style, bold_style, width, margin):\n",
    "    \"\"\"\n",
    "    Creates a summary of errors in a PDF document.\n",
    "\n",
    "    :param df: DataFrame containing error data.\n",
    "    :param normal_style: Style for normal text.\n",
    "    :param bold_style: Style for bold text.\n",
    "    :param width: Width of the page.\n",
    "    :param margin: Margin size.\n",
    "    :return: A list of elements to be added to the PDF.\n",
    "    \"\"\"\n",
    "    story = []\n",
    "    story.append(Paragraph(\"Resumo dos Erros\", bold_style))\n",
    "    story.append(Spacer(1, 12))\n",
    "\n",
    "    # Create a copy of the DataFrame and reset the index\n",
    "    df_copy = df.copy().reset_index()\n",
    "    df_copy.columns = [\n",
    "        'Nome',\n",
    "        'Status',\n",
    "        'Categoria do Teste',\n",
    "        'Tipo de erro',\n",
    "        'Detalhes do erro (100 caracteres)',\n",
    "        'JobId',\n",
    "    ]\n",
    "\n",
    "    df_copy = df_copy.drop('Detalhes do erro (100 caracteres)', axis=1)\n",
    "    display(df_copy)\n",
    "\n",
    "\n",
    "    # Prepare the detailed data for the table\n",
    "    detailed_tests_data = [[Paragraph(str(value), normal_style) for value in df_copy.columns.tolist()]]  # Add header\n",
    "    detailed_tests_data.extend(\n",
    "        [[Paragraph(str(value), normal_style) for value in row] for row in df_copy.values.tolist()]\n",
    "    )\n",
    "\n",
    "    # Calculate available width after applying margins\n",
    "    available_width = width - 2 * margin  # Subtracting left and right margins\n",
    "\n",
    "    # Define column proportions\n",
    "    proportions = [0.3, 0.15, 0.15, 0.15, 0.2, 0.1]  # Example proportions\n",
    "\n",
    "    # Calculate column widths based on the available width\n",
    "    col_widths = [available_width * p for p in proportions]\n",
    "\n",
    "    # Create the table\n",
    "    detailed_table = Table(detailed_tests_data, colWidths=col_widths)\n",
    "    detailed_table.setStyle(TableStyle([\n",
    "        ('ALIGN', (0, 0), (-1, -1), 'CENTER'),  # Center-align all cells\n",
    "        ('GRID', (0, 0), (-1, -1), 0.5, colors.black),  # Add grid lines\n",
    "        ('FONTNAME', (0, 0), (-1, 0), 'Helvetica-Bold'),  # Bold header font\n",
    "    ]))\n",
    "    story.append(detailed_table)\n",
    "    story.append(Spacer(1, 24))\n",
    "\n",
    "    return story\n",
    "\n",
    "def create_graphs(normal_style, bold_style, width, margin):\n",
    "    graph_files = build_all_graphs()\n",
    "    story = []\n",
    "\n",
    "    # Add a title to the PDF\n",
    "    story.append(Spacer(1, 12))\n",
    "\n",
    "    story.append(Paragraph(\"Visualização de dados\", bold_style))\n",
    "    story.append(Spacer(1, 12))\n",
    "\n",
    "    # Add the bar chart to the PDF\n",
    "    story.append(Image(graph_files['category_errors_bar'], width=500, height=250))  # Adjust size as needed\n",
    "    story.append(Spacer(1, 24))\n",
    "\n",
    "    # Add the pie chart to the PDF\n",
    "    story.append(Image(graph_files['error_distribution_pie'], width=500, height=250))  # Adjust size as needed\n",
    "    story.append(Spacer(1, 24))\n",
    "\n",
    "    # Add the pass/fail rate bar chart to the PDF\n",
    "    story.append(Image(graph_files['failures_passed_rate'], width=500, height=250))  # Adjust size as needed\n",
    "    story.append(Spacer(1, 24))\n",
    "\n",
    "    return story\n",
    "\n",
    "# Gerar o PDF\n",
    "create_pdf(df, errors_df)\n"
   ]
  },
  {
   "cell_type": "markdown",
   "metadata": {},
   "source": [
    "## Plotting"
   ]
  },
  {
   "cell_type": "markdown",
   "metadata": {},
   "source": [
    "### Error distribution (Pie chart)"
   ]
  },
  {
   "cell_type": "code",
   "execution_count": 17,
   "metadata": {},
   "outputs": [],
   "source": [
    "error_distribution_df = all_tests_df[['category', 'status']]\n",
    "error_passed_info = error_distribution_df.groupby(['status','category']).value_counts()\n",
    "\n",
    "status_freq_df = pd.concat([error_passed_info.FAILED, error_passed_info.PASSED], axis=1).fillna(0).astype(int)\n",
    "status_freq_df.columns = ['FAILED','PASSED']\n",
    "status_freq_df = status_freq_df.reset_index()\n"
   ]
  },
  {
   "cell_type": "code",
   "execution_count": 18,
   "metadata": {},
   "outputs": [],
   "source": [
    "def error_distribution_pie_chat(error_df):\n",
    "    # Filter for FAILED status\n",
    "    failed_df = error_df[error_df['status'] == 'FAILED']\n",
    "\n",
    "    # Group by category and count the number of FAILED statuses\n",
    "    failed_counts = failed_df.groupby('category').size().reset_index(name='count')\n",
    "\n",
    "    # Create the pie chart\n",
    "    fig = px.pie(\n",
    "        failed_counts, \n",
    "        names=\"category\",  # Use 'category' for pie slice labels\n",
    "        values=\"count\",    # Use 'count' for pie slice sizes\n",
    "        title=\"Distribution of FAILED Tests by Category\",\n",
    "        color_discrete_sequence=px.colors.sequential.RdBu,\n",
    "    )\n",
    "\n",
    "    fig.update_layout(\n",
    "    #   width=400,  # Set the width of the plot (in pixels)\n",
    "    #  height=400,  # Set the height of the plot (in pixels)\n",
    "        margin=dict(l=20, r=20, t=40, b=20)  # Adjust margins if needed\n",
    "    )\n",
    "\n",
    "    # Make the pie chart circle bigger by adjusting the marker size\n",
    "    fig.update_traces(\n",
    "        marker=dict(line=dict(color='white', width=2)),  # Optional: Add a white border\n",
    "        textposition='inside',  # Display text inside the slices\n",
    "        textinfo='percent+label'  # Show percentage and label\n",
    "    )\n",
    "\n",
    "    # Show the pie chart\n",
    "    fig.show()\n",
    "\n",
    "    "
   ]
  },
  {
   "cell_type": "code",
   "execution_count": 19,
   "metadata": {},
   "outputs": [],
   "source": [
    "def error_distribution_pie_chat_plt(error_df):\n",
    "\n",
    "    plt.figure(figsize=(5, 5))\n",
    "    plt.pie(\n",
    "        error_passed_info['FAILED'].values,\n",
    "        labels=error_passed_info['FAILED'].index.to_list(),\n",
    "        autopct='%1.1f%%',\n",
    "        startangle=90,\n",
    "        colors=['firebrick', 'lightgreen', 'lightskyblue'],\n",
    "    )\n",
    "    plt.legend(title=\"Error Types\", loc=\"upper right\", bbox_to_anchor=(1.3, 1))\n",
    "    plt.title('Failure Distribution')\n",
    "    plt.tight_layout()\n",
    "    plt.show()\n",
    "\n"
   ]
  },
  {
   "cell_type": "markdown",
   "metadata": {},
   "source": [
    "### Proportion of Passed/Failed (%) with Real Values Displayed"
   ]
  },
  {
   "cell_type": "code",
   "execution_count": 20,
   "metadata": {},
   "outputs": [
    {
     "data": {
      "application/vnd.plotly.v1+json": {
       "config": {
        "plotlyServerURL": "https://plot.ly"
       },
       "data": [
        {
         "hovertemplate": "Status=PASSED_pct<br>category=%{x}<br>Percentage=%{y}<br>Real Value=%{text}<extra></extra>",
         "legendgroup": "PASSED_pct",
         "marker": {
          "color": "#636efa",
          "pattern": {
           "shape": ""
          }
         },
         "name": "PASSED_pct",
         "orientation": "v",
         "showlegend": true,
         "text": {
          "bdata": "AAAAAAAANkAAAAAAAABtQAAAAAAAADRAAAAAAAAAMEAAAAAAAAAQQAAAAAAAAFVAAAAAAAAAKEAAAAAAAAA4QAAAAAAAACBAAAAAAAAAIEA=",
          "dtype": "f8"
         },
         "textposition": "inside",
         "texttemplate": "%{text}",
         "type": "bar",
         "x": [
          "versioning_cli_test.py",
          "acl_test.py",
          "cold_storage_test.py",
          "list-buckets_test.py",
          "locking_test.py",
          "policies_test.py",
          "presigned-urls_test.py",
          "profiles_policies_test.py",
          "unique-bucket-name_test.py",
          "versioning_test.py"
         ],
         "xaxis": "x",
         "y": {
          "bdata": "qqqqqqrqVkAAAAAAAABZQAAAAAAAAFlAAAAAAAAAWUAAAAAAAABZQAAAAAAAAFlAAAAAAAAAWUAAAAAAAABZQAAAAAAAAFlAAAAAAAAAWUA=",
          "dtype": "f8"
         },
         "yaxis": "y"
        },
        {
         "hovertemplate": "Status=FAILED_pct<br>category=%{x}<br>Percentage=%{y}<br>Real Value=%{text}<extra></extra>",
         "legendgroup": "FAILED_pct",
         "marker": {
          "color": "#EF553B",
          "pattern": {
           "shape": ""
          }
         },
         "name": "FAILED_pct",
         "orientation": "v",
         "showlegend": true,
         "text": {
          "bdata": "AAAAAAAAAEAAAAAAAAAAAAAAAAAAAAAAAAAAAAAAAAAAAAAAAAAAAAAAAAAAAAAAAAAAAAAAAAAAAAAAAAAAAAAAAAAAAAAAAAAAAAAAAAA=",
          "dtype": "f8"
         },
         "textposition": "inside",
         "texttemplate": "%{text}",
         "type": "bar",
         "x": [
          "versioning_cli_test.py",
          "acl_test.py",
          "cold_storage_test.py",
          "list-buckets_test.py",
          "locking_test.py",
          "policies_test.py",
          "presigned-urls_test.py",
          "profiles_policies_test.py",
          "unique-bucket-name_test.py",
          "versioning_test.py"
         ],
         "xaxis": "x",
         "y": {
          "bdata": "qqqqqqqqIEAAAAAAAAAAAAAAAAAAAAAAAAAAAAAAAAAAAAAAAAAAAAAAAAAAAAAAAAAAAAAAAAAAAAAAAAAAAAAAAAAAAAAAAAAAAAAAAAA=",
          "dtype": "f8"
         },
         "yaxis": "y"
        }
       ],
       "layout": {
        "barmode": "stack",
        "legend": {
         "title": {
          "text": "Status"
         },
         "tracegroupgap": 0
        },
        "template": {
         "data": {
          "bar": [
           {
            "error_x": {
             "color": "#2a3f5f"
            },
            "error_y": {
             "color": "#2a3f5f"
            },
            "marker": {
             "line": {
              "color": "#E5ECF6",
              "width": 0.5
             },
             "pattern": {
              "fillmode": "overlay",
              "size": 10,
              "solidity": 0.2
             }
            },
            "type": "bar"
           }
          ],
          "barpolar": [
           {
            "marker": {
             "line": {
              "color": "#E5ECF6",
              "width": 0.5
             },
             "pattern": {
              "fillmode": "overlay",
              "size": 10,
              "solidity": 0.2
             }
            },
            "type": "barpolar"
           }
          ],
          "carpet": [
           {
            "aaxis": {
             "endlinecolor": "#2a3f5f",
             "gridcolor": "white",
             "linecolor": "white",
             "minorgridcolor": "white",
             "startlinecolor": "#2a3f5f"
            },
            "baxis": {
             "endlinecolor": "#2a3f5f",
             "gridcolor": "white",
             "linecolor": "white",
             "minorgridcolor": "white",
             "startlinecolor": "#2a3f5f"
            },
            "type": "carpet"
           }
          ],
          "choropleth": [
           {
            "colorbar": {
             "outlinewidth": 0,
             "ticks": ""
            },
            "type": "choropleth"
           }
          ],
          "contour": [
           {
            "colorbar": {
             "outlinewidth": 0,
             "ticks": ""
            },
            "colorscale": [
             [
              0,
              "#0d0887"
             ],
             [
              0.1111111111111111,
              "#46039f"
             ],
             [
              0.2222222222222222,
              "#7201a8"
             ],
             [
              0.3333333333333333,
              "#9c179e"
             ],
             [
              0.4444444444444444,
              "#bd3786"
             ],
             [
              0.5555555555555556,
              "#d8576b"
             ],
             [
              0.6666666666666666,
              "#ed7953"
             ],
             [
              0.7777777777777778,
              "#fb9f3a"
             ],
             [
              0.8888888888888888,
              "#fdca26"
             ],
             [
              1,
              "#f0f921"
             ]
            ],
            "type": "contour"
           }
          ],
          "contourcarpet": [
           {
            "colorbar": {
             "outlinewidth": 0,
             "ticks": ""
            },
            "type": "contourcarpet"
           }
          ],
          "heatmap": [
           {
            "colorbar": {
             "outlinewidth": 0,
             "ticks": ""
            },
            "colorscale": [
             [
              0,
              "#0d0887"
             ],
             [
              0.1111111111111111,
              "#46039f"
             ],
             [
              0.2222222222222222,
              "#7201a8"
             ],
             [
              0.3333333333333333,
              "#9c179e"
             ],
             [
              0.4444444444444444,
              "#bd3786"
             ],
             [
              0.5555555555555556,
              "#d8576b"
             ],
             [
              0.6666666666666666,
              "#ed7953"
             ],
             [
              0.7777777777777778,
              "#fb9f3a"
             ],
             [
              0.8888888888888888,
              "#fdca26"
             ],
             [
              1,
              "#f0f921"
             ]
            ],
            "type": "heatmap"
           }
          ],
          "histogram": [
           {
            "marker": {
             "pattern": {
              "fillmode": "overlay",
              "size": 10,
              "solidity": 0.2
             }
            },
            "type": "histogram"
           }
          ],
          "histogram2d": [
           {
            "colorbar": {
             "outlinewidth": 0,
             "ticks": ""
            },
            "colorscale": [
             [
              0,
              "#0d0887"
             ],
             [
              0.1111111111111111,
              "#46039f"
             ],
             [
              0.2222222222222222,
              "#7201a8"
             ],
             [
              0.3333333333333333,
              "#9c179e"
             ],
             [
              0.4444444444444444,
              "#bd3786"
             ],
             [
              0.5555555555555556,
              "#d8576b"
             ],
             [
              0.6666666666666666,
              "#ed7953"
             ],
             [
              0.7777777777777778,
              "#fb9f3a"
             ],
             [
              0.8888888888888888,
              "#fdca26"
             ],
             [
              1,
              "#f0f921"
             ]
            ],
            "type": "histogram2d"
           }
          ],
          "histogram2dcontour": [
           {
            "colorbar": {
             "outlinewidth": 0,
             "ticks": ""
            },
            "colorscale": [
             [
              0,
              "#0d0887"
             ],
             [
              0.1111111111111111,
              "#46039f"
             ],
             [
              0.2222222222222222,
              "#7201a8"
             ],
             [
              0.3333333333333333,
              "#9c179e"
             ],
             [
              0.4444444444444444,
              "#bd3786"
             ],
             [
              0.5555555555555556,
              "#d8576b"
             ],
             [
              0.6666666666666666,
              "#ed7953"
             ],
             [
              0.7777777777777778,
              "#fb9f3a"
             ],
             [
              0.8888888888888888,
              "#fdca26"
             ],
             [
              1,
              "#f0f921"
             ]
            ],
            "type": "histogram2dcontour"
           }
          ],
          "mesh3d": [
           {
            "colorbar": {
             "outlinewidth": 0,
             "ticks": ""
            },
            "type": "mesh3d"
           }
          ],
          "parcoords": [
           {
            "line": {
             "colorbar": {
              "outlinewidth": 0,
              "ticks": ""
             }
            },
            "type": "parcoords"
           }
          ],
          "pie": [
           {
            "automargin": true,
            "type": "pie"
           }
          ],
          "scatter": [
           {
            "fillpattern": {
             "fillmode": "overlay",
             "size": 10,
             "solidity": 0.2
            },
            "type": "scatter"
           }
          ],
          "scatter3d": [
           {
            "line": {
             "colorbar": {
              "outlinewidth": 0,
              "ticks": ""
             }
            },
            "marker": {
             "colorbar": {
              "outlinewidth": 0,
              "ticks": ""
             }
            },
            "type": "scatter3d"
           }
          ],
          "scattercarpet": [
           {
            "marker": {
             "colorbar": {
              "outlinewidth": 0,
              "ticks": ""
             }
            },
            "type": "scattercarpet"
           }
          ],
          "scattergeo": [
           {
            "marker": {
             "colorbar": {
              "outlinewidth": 0,
              "ticks": ""
             }
            },
            "type": "scattergeo"
           }
          ],
          "scattergl": [
           {
            "marker": {
             "colorbar": {
              "outlinewidth": 0,
              "ticks": ""
             }
            },
            "type": "scattergl"
           }
          ],
          "scattermap": [
           {
            "marker": {
             "colorbar": {
              "outlinewidth": 0,
              "ticks": ""
             }
            },
            "type": "scattermap"
           }
          ],
          "scattermapbox": [
           {
            "marker": {
             "colorbar": {
              "outlinewidth": 0,
              "ticks": ""
             }
            },
            "type": "scattermapbox"
           }
          ],
          "scatterpolar": [
           {
            "marker": {
             "colorbar": {
              "outlinewidth": 0,
              "ticks": ""
             }
            },
            "type": "scatterpolar"
           }
          ],
          "scatterpolargl": [
           {
            "marker": {
             "colorbar": {
              "outlinewidth": 0,
              "ticks": ""
             }
            },
            "type": "scatterpolargl"
           }
          ],
          "scatterternary": [
           {
            "marker": {
             "colorbar": {
              "outlinewidth": 0,
              "ticks": ""
             }
            },
            "type": "scatterternary"
           }
          ],
          "surface": [
           {
            "colorbar": {
             "outlinewidth": 0,
             "ticks": ""
            },
            "colorscale": [
             [
              0,
              "#0d0887"
             ],
             [
              0.1111111111111111,
              "#46039f"
             ],
             [
              0.2222222222222222,
              "#7201a8"
             ],
             [
              0.3333333333333333,
              "#9c179e"
             ],
             [
              0.4444444444444444,
              "#bd3786"
             ],
             [
              0.5555555555555556,
              "#d8576b"
             ],
             [
              0.6666666666666666,
              "#ed7953"
             ],
             [
              0.7777777777777778,
              "#fb9f3a"
             ],
             [
              0.8888888888888888,
              "#fdca26"
             ],
             [
              1,
              "#f0f921"
             ]
            ],
            "type": "surface"
           }
          ],
          "table": [
           {
            "cells": {
             "fill": {
              "color": "#EBF0F8"
             },
             "line": {
              "color": "white"
             }
            },
            "header": {
             "fill": {
              "color": "#C8D4E3"
             },
             "line": {
              "color": "white"
             }
            },
            "type": "table"
           }
          ]
         },
         "layout": {
          "annotationdefaults": {
           "arrowcolor": "#2a3f5f",
           "arrowhead": 0,
           "arrowwidth": 1
          },
          "autotypenumbers": "strict",
          "coloraxis": {
           "colorbar": {
            "outlinewidth": 0,
            "ticks": ""
           }
          },
          "colorscale": {
           "diverging": [
            [
             0,
             "#8e0152"
            ],
            [
             0.1,
             "#c51b7d"
            ],
            [
             0.2,
             "#de77ae"
            ],
            [
             0.3,
             "#f1b6da"
            ],
            [
             0.4,
             "#fde0ef"
            ],
            [
             0.5,
             "#f7f7f7"
            ],
            [
             0.6,
             "#e6f5d0"
            ],
            [
             0.7,
             "#b8e186"
            ],
            [
             0.8,
             "#7fbc41"
            ],
            [
             0.9,
             "#4d9221"
            ],
            [
             1,
             "#276419"
            ]
           ],
           "sequential": [
            [
             0,
             "#0d0887"
            ],
            [
             0.1111111111111111,
             "#46039f"
            ],
            [
             0.2222222222222222,
             "#7201a8"
            ],
            [
             0.3333333333333333,
             "#9c179e"
            ],
            [
             0.4444444444444444,
             "#bd3786"
            ],
            [
             0.5555555555555556,
             "#d8576b"
            ],
            [
             0.6666666666666666,
             "#ed7953"
            ],
            [
             0.7777777777777778,
             "#fb9f3a"
            ],
            [
             0.8888888888888888,
             "#fdca26"
            ],
            [
             1,
             "#f0f921"
            ]
           ],
           "sequentialminus": [
            [
             0,
             "#0d0887"
            ],
            [
             0.1111111111111111,
             "#46039f"
            ],
            [
             0.2222222222222222,
             "#7201a8"
            ],
            [
             0.3333333333333333,
             "#9c179e"
            ],
            [
             0.4444444444444444,
             "#bd3786"
            ],
            [
             0.5555555555555556,
             "#d8576b"
            ],
            [
             0.6666666666666666,
             "#ed7953"
            ],
            [
             0.7777777777777778,
             "#fb9f3a"
            ],
            [
             0.8888888888888888,
             "#fdca26"
            ],
            [
             1,
             "#f0f921"
            ]
           ]
          },
          "colorway": [
           "#636efa",
           "#EF553B",
           "#00cc96",
           "#ab63fa",
           "#FFA15A",
           "#19d3f3",
           "#FF6692",
           "#B6E880",
           "#FF97FF",
           "#FECB52"
          ],
          "font": {
           "color": "#2a3f5f"
          },
          "geo": {
           "bgcolor": "white",
           "lakecolor": "white",
           "landcolor": "#E5ECF6",
           "showlakes": true,
           "showland": true,
           "subunitcolor": "white"
          },
          "hoverlabel": {
           "align": "left"
          },
          "hovermode": "closest",
          "mapbox": {
           "style": "light"
          },
          "paper_bgcolor": "white",
          "plot_bgcolor": "#E5ECF6",
          "polar": {
           "angularaxis": {
            "gridcolor": "white",
            "linecolor": "white",
            "ticks": ""
           },
           "bgcolor": "#E5ECF6",
           "radialaxis": {
            "gridcolor": "white",
            "linecolor": "white",
            "ticks": ""
           }
          },
          "scene": {
           "xaxis": {
            "backgroundcolor": "#E5ECF6",
            "gridcolor": "white",
            "gridwidth": 2,
            "linecolor": "white",
            "showbackground": true,
            "ticks": "",
            "zerolinecolor": "white"
           },
           "yaxis": {
            "backgroundcolor": "#E5ECF6",
            "gridcolor": "white",
            "gridwidth": 2,
            "linecolor": "white",
            "showbackground": true,
            "ticks": "",
            "zerolinecolor": "white"
           },
           "zaxis": {
            "backgroundcolor": "#E5ECF6",
            "gridcolor": "white",
            "gridwidth": 2,
            "linecolor": "white",
            "showbackground": true,
            "ticks": "",
            "zerolinecolor": "white"
           }
          },
          "shapedefaults": {
           "line": {
            "color": "#2a3f5f"
           }
          },
          "ternary": {
           "aaxis": {
            "gridcolor": "white",
            "linecolor": "white",
            "ticks": ""
           },
           "baxis": {
            "gridcolor": "white",
            "linecolor": "white",
            "ticks": ""
           },
           "bgcolor": "#E5ECF6",
           "caxis": {
            "gridcolor": "white",
            "linecolor": "white",
            "ticks": ""
           }
          },
          "title": {
           "x": 0.05
          },
          "xaxis": {
           "automargin": true,
           "gridcolor": "white",
           "linecolor": "white",
           "ticks": "",
           "title": {
            "standoff": 15
           },
           "zerolinecolor": "white",
           "zerolinewidth": 2
          },
          "yaxis": {
           "automargin": true,
           "gridcolor": "white",
           "linecolor": "white",
           "ticks": "",
           "title": {
            "standoff": 15
           },
           "zerolinecolor": "white",
           "zerolinewidth": 2
          }
         }
        },
        "title": {
         "text": "Proportion of Passed/Failed (%) with Real Values Displayed"
        },
        "xaxis": {
         "anchor": "y",
         "domain": [
          0,
          1
         ],
         "title": {
          "text": "Category"
         }
        },
        "yaxis": {
         "anchor": "x",
         "domain": [
          0,
          1
         ],
         "title": {
          "text": "Percentage"
         }
        }
       }
      }
     },
     "metadata": {},
     "output_type": "display_data"
    }
   ],
   "source": [
    "\n",
    "# Calcular totais e percentuais\n",
    "status_freq_df['Total'] = status_freq_df['PASSED'] + status_freq_df['FAILED']\n",
    "status_freq_df['PASSED_pct'] = (status_freq_df['PASSED'] / status_freq_df['Total']) * 100\n",
    "status_freq_df['FAILED_pct'] = (status_freq_df['FAILED'] / status_freq_df['Total']) * 100\n",
    "\n",
    "# Transformar dados para formato longo\n",
    "status_freq_long = status_freq_df.melt(\n",
    "    id_vars=['category'], \n",
    "    value_vars=['PASSED_pct', 'FAILED_pct'], \n",
    "    var_name='Status', \n",
    "    value_name='Percentage'\n",
    ")\n",
    "\n",
    "# Criar coluna com valores reais correspondentes\n",
    "status_freq_long['Real Value'] = status_freq_long.apply(\n",
    "    lambda row: status_freq_df.loc[status_freq_df['category'] == row['category'], row['Status'].replace('_pct', '')].values[0], \n",
    "    axis=1\n",
    ")\n",
    "\n",
    "# Criar gráfico\n",
    "fig = px.bar(\n",
    "    status_freq_long, \n",
    "    x=\"category\", \n",
    "    y=\"Percentage\", \n",
    "    color=\"Status\", \n",
    "    barmode='stack', \n",
    "    title=\"Proportion of Passed/Failed (%) with Real Values Displayed\",\n",
    "    labels={'Percentage': 'Percentage'},\n",
    "    text=status_freq_long[\"Real Value\"]  # Exibir valores reais nas barras\n",
    ")\n",
    "\n",
    "# Ajustar layout para exibir os valores dentro das barras\n",
    "fig.update_traces(texttemplate='%{text}', textposition='inside')\n",
    "fig.update_yaxes(title='Percentage')\n",
    "fig.update_xaxes(title='Category')\n",
    "\n",
    "fig.show()\n"
   ]
  },
  {
   "cell_type": "markdown",
   "metadata": {},
   "source": [
    "### Error type rate\n"
   ]
  },
  {
   "cell_type": "code",
   "execution_count": 21,
   "metadata": {},
   "outputs": [],
   "source": [
    "def plot_category_errors_bar(df):\n",
    "    # Calculate the frequency of errors per category\n",
    "    error_freq_df = df.groupby(['category', 'error']).size().reset_index(name='frequency')\n",
    "\n",
    "    # Create the bar plot\n",
    "    fig = px.bar(\n",
    "        error_freq_df, \n",
    "        x=\"category\", \n",
    "        y=\"frequency\", \n",
    "        color=\"error\",  # Use a discrete color sequence\n",
    "        color_discrete_sequence=px.colors.sequential.RdBu,\n",
    "        title=\"Frequency of Errors by Category\",\n",
    "        labels={'frequency': 'Frequency of Errors', 'category': 'Category'},\n",
    "    )\n",
    "\n",
    "    # Adjust layout to control bar width\n",
    "    fig.update_layout(\n",
    "        xaxis_title=\"Category\",\n",
    "        yaxis_title=\"Frequency of Errors\",\n",
    "        barmode='stack',  \n",
    "        bargroupgap=0.1,  \n",
    "        width=600,\n",
    "        margin=dict(l=20, r=20, t=40, b=20)  \n",
    "    )\n",
    "\n",
    "    # Show the plot\n",
    "    fig.show()"
   ]
  }
 ],
 "metadata": {
  "kernelspec": {
   "display_name": "Python 3",
   "language": "python",
   "name": "python3"
  },
  "language_info": {
   "codemirror_mode": {
    "name": "ipython",
    "version": 3
   },
   "file_extension": ".py",
   "mimetype": "text/x-python",
   "name": "python",
   "nbconvert_exporter": "python",
   "pygments_lexer": "ipython3",
   "version": "3.10.12"
  }
 },
 "nbformat": 4,
 "nbformat_minor": 2
}
